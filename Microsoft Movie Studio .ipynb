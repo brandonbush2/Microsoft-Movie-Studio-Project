{
 "cells": [
  {
   "cell_type": "markdown",
   "id": "66e23df0",
   "metadata": {},
   "source": [
    "# Exploratory Data Analysis of Successful Film Trends\n",
    "## Informing Decision-making for Microsoft's New Movie Studio"
   ]
  },
  {
   "cell_type": "markdown",
   "id": "eb47890a",
   "metadata": {},
   "source": [
    "# 1. Business Understanding\n",
    "Microsoft has identified an opportunity to enter the movie industry by establishing a new movie studio. However, as a technology company, they lack expertise in the domain of filmmaking. To make informed decisions about the type of films to produce, Microsoft needs to understand the current landscape of the movie industry.\n"
   ]
  },
  {
   "cell_type": "markdown",
   "id": "1b40bbb0",
   "metadata": {},
   "source": [
    "\n",
    "The primary objective is to explore successful movies and translate the findings into actionable insights. Through exploratory data analysis, insights of the types of films doing well can be generated.These insights will serve as a foundation for determining the types of films the new studio should create to maximize their chances of achieving box office success.\n",
    "\n",
    "This analysis aims to answer the following key questions:\n",
    "* What are the top-performing genres in the movie industry?\n",
    "* Are there any particular demographics or target audiences that have shown a strong preference for certain types of films?\n",
    "* What is the average budget range for successful movies, and how does it correlate with their box office performance?\n",
    "* Are there any seasonal or temporal factors influencing the success of films, such as release dates or holiday periods?\n",
    "* Are there any specific marketing or promotional strategies employed by successful movies that contribute to their box office success?\n",
    "* How do critical reviews and audience ratings impact the commercial success of movies?"
   ]
  },
  {
   "cell_type": "markdown",
   "id": "b0ceb438",
   "metadata": {},
   "source": [
    "# 2. Data Understanding\n",
    "To gain a comprehensive understanding of the movie industry and address Microsoft's business problem, several types of data can be collected and analyzed. \n",
    "The dataset used for this anaysis contains information from movie sites. The files included are _'title.basics.csv'_, _'tn.movie_budgets.csv'_, _'title.ratings.csv'_, _'bom.movie_gross.csv'_, `'name.basics.csv'`.\n",
    "Information contained in each file includes:\n",
    "+ Genres\n",
    "+ Movie Titles\n",
    "+ Movie Ratings\n",
    "+ Movie Budgets\n",
    "+ Domestic and Foreign Gross Income\n",
    "+ Release dates\n",
    "+ Runtime Minutes\n",
    "+ Popularity\n"
   ]
  },
  {
   "cell_type": "markdown",
   "id": "6c526d56",
   "metadata": {},
   "source": [
    "# 3. Data Preparation"
   ]
  },
  {
   "cell_type": "markdown",
   "id": "78059eed",
   "metadata": {},
   "source": [
    "We first import the relevant packages for this analysis."
   ]
  },
  {
   "cell_type": "code",
   "execution_count": 2,
   "id": "0a012abe",
   "metadata": {},
   "outputs": [],
   "source": [
    "# importing the relevant packages\n",
    "import pandas as pd\n",
    "import numpy as np\n",
    "import seaborn as sns\n",
    "import sqlite3\n",
    "import matplotlib.pyplot as plt\n",
    "\n",
    "#enabling plotting of visusalizations in the notebook\n",
    "%matplotlib inline"
   ]
  },
  {
   "cell_type": "markdown",
   "id": "45d42719",
   "metadata": {},
   "source": [
    "## Previewing the Database Tables\n",
    "The database has some datasets that will be useful for this analysis."
   ]
  },
  {
   "cell_type": "code",
   "execution_count": null,
   "id": "c009ae40",
   "metadata": {},
   "outputs": [],
   "source": []
  }
 ],
 "metadata": {
  "kernelspec": {
   "display_name": "Python (learn-env)",
   "language": "python",
   "name": "learn-env"
  },
  "language_info": {
   "codemirror_mode": {
    "name": "ipython",
    "version": 3
   },
   "file_extension": ".py",
   "mimetype": "text/x-python",
   "name": "python",
   "nbconvert_exporter": "python",
   "pygments_lexer": "ipython3",
   "version": "3.10.11"
  }
 },
 "nbformat": 4,
 "nbformat_minor": 5
}
